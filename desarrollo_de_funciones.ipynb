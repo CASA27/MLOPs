{
 "cells": [
  {
   "cell_type": "code",
   "execution_count": 11,
   "metadata": {},
   "outputs": [],
   "source": [
    "from fastapi import FastAPI\n",
    "import pandas as pd\n",
    "from sklearn.neighbors import NearestNeighbors"
   ]
  },
  {
   "cell_type": "code",
   "execution_count": 12,
   "metadata": {},
   "outputs": [
    {
     "data": {
      "text/html": [
       "<div>\n",
       "<style scoped>\n",
       "    .dataframe tbody tr th:only-of-type {\n",
       "        vertical-align: middle;\n",
       "    }\n",
       "\n",
       "    .dataframe tbody tr th {\n",
       "        vertical-align: top;\n",
       "    }\n",
       "\n",
       "    .dataframe thead th {\n",
       "        text-align: right;\n",
       "    }\n",
       "</style>\n",
       "<table border=\"1\" class=\"dataframe\">\n",
       "  <thead>\n",
       "    <tr style=\"text-align: right;\">\n",
       "      <th></th>\n",
       "      <th>Unnamed: 0</th>\n",
       "      <th>budget</th>\n",
       "      <th>id</th>\n",
       "      <th>original_language</th>\n",
       "      <th>overview</th>\n",
       "      <th>popularity</th>\n",
       "      <th>release_date</th>\n",
       "      <th>revenue</th>\n",
       "      <th>runtime</th>\n",
       "      <th>spoken_languages</th>\n",
       "      <th>status</th>\n",
       "      <th>tagline</th>\n",
       "      <th>title</th>\n",
       "      <th>vote_average</th>\n",
       "      <th>collection_name</th>\n",
       "      <th>genre_names</th>\n",
       "      <th>release_year</th>\n",
       "      <th>return</th>\n",
       "      <th>production_countries_names</th>\n",
       "      <th>production_companies_names</th>\n",
       "    </tr>\n",
       "  </thead>\n",
       "  <tbody>\n",
       "    <tr>\n",
       "      <th>17280</th>\n",
       "      <td>17289</td>\n",
       "      <td>0.0</td>\n",
       "      <td>80941</td>\n",
       "      <td>en</td>\n",
       "      <td>A sailor helps two sisters start up a service ...</td>\n",
       "      <td>0.128616</td>\n",
       "      <td>1944-06-14</td>\n",
       "      <td>0.0</td>\n",
       "      <td>124.0</td>\n",
       "      <td>English</td>\n",
       "      <td>Released</td>\n",
       "      <td>M-G-M's ship-shapey musical!</td>\n",
       "      <td>Two Girls and a Sailor</td>\n",
       "      <td>4.5</td>\n",
       "      <td>NaN</td>\n",
       "      <td>Comedy|Romance</td>\n",
       "      <td>1944.0</td>\n",
       "      <td>0.00</td>\n",
       "      <td>United States of America</td>\n",
       "      <td>Metro-Goldwyn-Mayer (MGM)</td>\n",
       "    </tr>\n",
       "    <tr>\n",
       "      <th>12994</th>\n",
       "      <td>12999</td>\n",
       "      <td>0.0</td>\n",
       "      <td>14976</td>\n",
       "      <td>en</td>\n",
       "      <td>A young woman who has been in and out from reh...</td>\n",
       "      <td>13.44059</td>\n",
       "      <td>2008-10-03</td>\n",
       "      <td>0.0</td>\n",
       "      <td>113.0</td>\n",
       "      <td>English</td>\n",
       "      <td>Released</td>\n",
       "      <td>NaN</td>\n",
       "      <td>Rachel Getting Married</td>\n",
       "      <td>6.1</td>\n",
       "      <td>NaN</td>\n",
       "      <td>Drama</td>\n",
       "      <td>2008.0</td>\n",
       "      <td>0.00</td>\n",
       "      <td>United States of America</td>\n",
       "      <td>Clinica Estetico</td>\n",
       "    </tr>\n",
       "    <tr>\n",
       "      <th>19711</th>\n",
       "      <td>19726</td>\n",
       "      <td>165000000.0</td>\n",
       "      <td>82690</td>\n",
       "      <td>en</td>\n",
       "      <td>Wreck-It Ralph is the 9-foot-tall, 643-pound v...</td>\n",
       "      <td>13.697597</td>\n",
       "      <td>2012-11-01</td>\n",
       "      <td>471222889.0</td>\n",
       "      <td>108.0</td>\n",
       "      <td>English</td>\n",
       "      <td>Released</td>\n",
       "      <td>The story of a regular guy just looking for a ...</td>\n",
       "      <td>Wreck-It Ralph</td>\n",
       "      <td>7.1</td>\n",
       "      <td>Wreck-It Ralph Collection</td>\n",
       "      <td>Family|Animation|Comedy|Adventure</td>\n",
       "      <td>2012.0</td>\n",
       "      <td>2.86</td>\n",
       "      <td>United States of America</td>\n",
       "      <td>Walt Disney Animation Studios</td>\n",
       "    </tr>\n",
       "    <tr>\n",
       "      <th>39730</th>\n",
       "      <td>39787</td>\n",
       "      <td>800000.0</td>\n",
       "      <td>309579</td>\n",
       "      <td>en</td>\n",
       "      <td>Abdul Rahman, an African prince who was sold i...</td>\n",
       "      <td>0.010448</td>\n",
       "      <td>2008-02-04</td>\n",
       "      <td>0.0</td>\n",
       "      <td>58.0</td>\n",
       "      <td>English</td>\n",
       "      <td>Released</td>\n",
       "      <td>NaN</td>\n",
       "      <td>Prince Among Slaves</td>\n",
       "      <td>0.0</td>\n",
       "      <td>NaN</td>\n",
       "      <td>Documentary</td>\n",
       "      <td>2008.0</td>\n",
       "      <td>0.00</td>\n",
       "      <td>United States of America</td>\n",
       "      <td>Spark Media, Unity Productions Foundation</td>\n",
       "    </tr>\n",
       "    <tr>\n",
       "      <th>36502</th>\n",
       "      <td>36548</td>\n",
       "      <td>0.0</td>\n",
       "      <td>127329</td>\n",
       "      <td>cn</td>\n",
       "      <td>A gorgeous lethal killer, brainwashed by the v...</td>\n",
       "      <td>1.170411</td>\n",
       "      <td>2012-08-15</td>\n",
       "      <td>0.0</td>\n",
       "      <td>94.0</td>\n",
       "      <td>广州话 / 廣州話|Français|普通话</td>\n",
       "      <td>Released</td>\n",
       "      <td>Extremely Dangerous!</td>\n",
       "      <td>Naked Soldier</td>\n",
       "      <td>4.6</td>\n",
       "      <td>Naked Collection</td>\n",
       "      <td>Action|Drama</td>\n",
       "      <td>2012.0</td>\n",
       "      <td>0.00</td>\n",
       "      <td>Hong Kong</td>\n",
       "      <td>Mega-Vision Pictures (MVP)</td>\n",
       "    </tr>\n",
       "  </tbody>\n",
       "</table>\n",
       "</div>"
      ],
      "text/plain": [
       "       Unnamed: 0       budget      id original_language   \n",
       "17280       17289          0.0   80941                en  \\\n",
       "12994       12999          0.0   14976                en   \n",
       "19711       19726  165000000.0   82690                en   \n",
       "39730       39787     800000.0  309579                en   \n",
       "36502       36548          0.0  127329                cn   \n",
       "\n",
       "                                                overview popularity   \n",
       "17280  A sailor helps two sisters start up a service ...   0.128616  \\\n",
       "12994  A young woman who has been in and out from reh...   13.44059   \n",
       "19711  Wreck-It Ralph is the 9-foot-tall, 643-pound v...  13.697597   \n",
       "39730  Abdul Rahman, an African prince who was sold i...   0.010448   \n",
       "36502  A gorgeous lethal killer, brainwashed by the v...   1.170411   \n",
       "\n",
       "      release_date      revenue  runtime        spoken_languages    status   \n",
       "17280   1944-06-14          0.0    124.0                 English  Released  \\\n",
       "12994   2008-10-03          0.0    113.0                 English  Released   \n",
       "19711   2012-11-01  471222889.0    108.0                 English  Released   \n",
       "39730   2008-02-04          0.0     58.0                 English  Released   \n",
       "36502   2012-08-15          0.0     94.0  广州话 / 廣州話|Français|普通话  Released   \n",
       "\n",
       "                                                 tagline   \n",
       "17280                       M-G-M's ship-shapey musical!  \\\n",
       "12994                                                NaN   \n",
       "19711  The story of a regular guy just looking for a ...   \n",
       "39730                                                NaN   \n",
       "36502                               Extremely Dangerous!   \n",
       "\n",
       "                        title  vote_average            collection_name   \n",
       "17280  Two Girls and a Sailor           4.5                        NaN  \\\n",
       "12994  Rachel Getting Married           6.1                        NaN   \n",
       "19711          Wreck-It Ralph           7.1  Wreck-It Ralph Collection   \n",
       "39730     Prince Among Slaves           0.0                        NaN   \n",
       "36502           Naked Soldier           4.6           Naked Collection   \n",
       "\n",
       "                             genre_names  release_year  return   \n",
       "17280                     Comedy|Romance        1944.0    0.00  \\\n",
       "12994                              Drama        2008.0    0.00   \n",
       "19711  Family|Animation|Comedy|Adventure        2012.0    2.86   \n",
       "39730                        Documentary        2008.0    0.00   \n",
       "36502                       Action|Drama        2012.0    0.00   \n",
       "\n",
       "      production_countries_names                 production_companies_names  \n",
       "17280   United States of America                  Metro-Goldwyn-Mayer (MGM)  \n",
       "12994   United States of America                           Clinica Estetico  \n",
       "19711   United States of America              Walt Disney Animation Studios  \n",
       "39730   United States of America  Spark Media, Unity Productions Foundation  \n",
       "36502                  Hong Kong                 Mega-Vision Pictures (MVP)  "
      ]
     },
     "execution_count": 12,
     "metadata": {},
     "output_type": "execute_result"
    }
   ],
   "source": [
    "df = pd.read_csv('Dataset/df.csv', low_memory=False)\n",
    "df.sample(5)"
   ]
  },
  {
   "cell_type": "code",
   "execution_count": 13,
   "metadata": {},
   "outputs": [],
   "source": [
    "# def peliculas_mes(mes): '''Se ingresa el mes y la funcion retorna la cantidad de peliculas que se estrenaron \n",
    "# ese mes historicamente ''' return {'mes':mes, 'cantidad':respuesta}\n",
    "\n",
    "def peliculas_mes(mes):\n",
    "       \n",
    "    meses = {\n",
    "        'enero': 'January',\n",
    "        'febrero': 'February',\n",
    "        'marzo': 'March',\n",
    "        'abril': 'April',\n",
    "        'mayo': 'May',\n",
    "        'junio': 'June',\n",
    "        'julio': 'July',\n",
    "        'agosto': 'August',\n",
    "        'septiembre': 'September',\n",
    "        'octubre': 'October',\n",
    "        'noviembre': 'November',\n",
    "        'diciembre': 'December'\n",
    "    }\n",
    "    \n",
    "    df = pd.read_csv('Dataset/df.csv', low_memory=False)\n",
    "    df = df.dropna(subset=['release_date'])\n",
    "    \n",
    "    df['release_date'] = pd.to_datetime(df['release_date'])\n",
    "    df_mes = df[df['release_date'].dt.month_name() == meses[mes].capitalize()]\n",
    "    respuesta = len(df_mes)\n",
    "    \n",
    "    return {'mes': mes, 'cantidad': respuesta}"
   ]
  },
  {
   "cell_type": "code",
   "execution_count": 14,
   "metadata": {},
   "outputs": [
    {
     "data": {
      "text/plain": [
       "{'mes': 'enero', 'cantidad': 5912}"
      ]
     },
     "execution_count": 14,
     "metadata": {},
     "output_type": "execute_result"
    }
   ],
   "source": [
    "peliculas_mes(\"enero\")\n"
   ]
  },
  {
   "cell_type": "code",
   "execution_count": 15,
   "metadata": {},
   "outputs": [],
   "source": [
    "def peliculas_dia(dia):\n",
    "    dias = {\n",
    "    'lunes': 'Monday',\n",
    "    'martes': 'Tuesday',\n",
    "    'miércoles': 'Wednesday',\n",
    "    'miercoles': 'Wednesday',\n",
    "    'jueves': 'Thursday',\n",
    "    'viernes': 'Friday',\n",
    "    'sábado': 'Saturday',\n",
    "    'sabado': 'Saturday',\n",
    "    'domingo': 'Sunday'\n",
    "    }\n",
    "    df = pd.read_csv('Dataset/df.csv', low_memory=False)\n",
    "    df = df.dropna(subset=['release_date'])\n",
    "    df['release_date'] = pd.to_datetime(df['release_date'])\n",
    "\n",
    "    df_dia = df[df['release_date'].dt.day_name() == dias[dia].capitalize()]\n",
    "    \n",
    "    respuesta = len(df_dia)\n",
    "    \n",
    "    return {'dia': dia, 'cantidad': respuesta}"
   ]
  },
  {
   "cell_type": "code",
   "execution_count": 16,
   "metadata": {},
   "outputs": [
    {
     "data": {
      "text/plain": [
       "{'dia': 'martes', 'cantidad': 4641}"
      ]
     },
     "execution_count": 16,
     "metadata": {},
     "output_type": "execute_result"
    }
   ],
   "source": [
    "peliculas_dia('martes')"
   ]
  },
  {
   "cell_type": "code",
   "execution_count": 17,
   "metadata": {},
   "outputs": [
    {
     "name": "stdout",
     "output_type": "stream",
     "text": [
      "<class 'pandas.core.frame.DataFrame'>\n",
      "RangeIndex: 45379 entries, 0 to 45378\n",
      "Data columns (total 20 columns):\n",
      " #   Column                      Non-Null Count  Dtype  \n",
      "---  ------                      --------------  -----  \n",
      " 0   Unnamed: 0                  45379 non-null  int64  \n",
      " 1   budget                      45376 non-null  float64\n",
      " 2   id                          45379 non-null  object \n",
      " 3   original_language           45368 non-null  object \n",
      " 4   overview                    44438 non-null  object \n",
      " 5   popularity                  45377 non-null  object \n",
      " 6   release_date                45376 non-null  object \n",
      " 7   revenue                     45379 non-null  float64\n",
      " 8   runtime                     45130 non-null  float64\n",
      " 9   spoken_languages            41488 non-null  object \n",
      " 10  status                      45296 non-null  object \n",
      " 11  tagline                     20398 non-null  object \n",
      " 12  title                       45376 non-null  object \n",
      " 13  vote_average                45376 non-null  float64\n",
      " 14  collection_name             3165 non-null   object \n",
      " 15  genre_names                 42995 non-null  object \n",
      " 16  release_year                45376 non-null  float64\n",
      " 17  return                      45379 non-null  float64\n",
      " 18  production_countries_names  39165 non-null  object \n",
      " 19  production_companies_names  33580 non-null  object \n",
      "dtypes: float64(6), int64(1), object(13)\n",
      "memory usage: 6.9+ MB\n"
     ]
    }
   ],
   "source": [
    "df.info()"
   ]
  },
  {
   "cell_type": "code",
   "execution_count": 19,
   "metadata": {},
   "outputs": [],
   "source": [
    "def peliculas_pais(pais):\n",
    "    df = pd.read_csv('Dataset/df.csv', low_memory=False)\n",
    "\n",
    "    df = df.dropna(subset=['production_countries_names'])\n",
    "    df = df.drop_duplicates()\n",
    "\n",
    "    num_movies = 0\n",
    "    for countries in df['production_countries_names']:\n",
    "        if pais in countries:\n",
    "            num_movies += 1\n",
    "\n",
    "    result = {'pais': pais, 'cantidad': num_movies}\n",
    "    return result"
   ]
  },
  {
   "cell_type": "code",
   "execution_count": 20,
   "metadata": {},
   "outputs": [
    {
     "data": {
      "text/plain": [
       "{'pais': 'United States of America', 'cantidad': 21147}"
      ]
     },
     "execution_count": 20,
     "metadata": {},
     "output_type": "execute_result"
    }
   ],
   "source": [
    "peliculas_pais('United States of America')"
   ]
  },
  {
   "cell_type": "code",
   "execution_count": 22,
   "metadata": {},
   "outputs": [],
   "source": [
    "def peliculas_pais(pais):\n",
    "    df = pd.read_csv('Dataset/df.csv', low_memory=False)\n",
    "\n",
    "    df = df.dropna(subset=['production_countries_names'])\n",
    "    df = df.drop_duplicates()\n",
    "\n",
    "    num_peliculas = 0\n",
    "    for countries in df['production_countries_names']:\n",
    "        if pais in countries:\n",
    "            num_peliculas += 1\n",
    "\n",
    "    return {'pais': pais, 'cantidad': num_peliculas}\n"
   ]
  },
  {
   "cell_type": "code",
   "execution_count": 23,
   "metadata": {},
   "outputs": [
    {
     "data": {
      "text/plain": [
       "{'pais': 'Canada', 'cantidad': 1765}"
      ]
     },
     "execution_count": 23,
     "metadata": {},
     "output_type": "execute_result"
    }
   ],
   "source": [
    "peliculas_pais('Canada')"
   ]
  },
  {
   "cell_type": "code",
   "execution_count": 24,
   "metadata": {},
   "outputs": [],
   "source": [
    "def productoras(productora):\n",
    "    \n",
    "    \n",
    "    df = pd.read_csv('Dataset/df.csv', low_memory=False)\n",
    "    df = df.dropna(subset=['production_companies_names'])\n",
    "\n",
    "    mask = df['production_companies_names'].apply(lambda x: productora in x)\n",
    "    df_filtered = df[mask]\n",
    "\n",
    "    ganancia_total = df_filtered['revenue'].sum()\n",
    "    cantidad = len(df_filtered)\n",
    "\n",
    "    return {'productora': productora, 'ganancia_total': int(ganancia_total), 'cantidad': cantidad}"
   ]
  },
  {
   "cell_type": "code",
   "execution_count": 25,
   "metadata": {},
   "outputs": [
    {
     "data": {
      "text/plain": [
       "{'productora': 'Twentieth Century Fox',\n",
       " 'ganancia_total': 52522289084,\n",
       " 'cantidad': 856}"
      ]
     },
     "execution_count": 25,
     "metadata": {},
     "output_type": "execute_result"
    }
   ],
   "source": [
    "productoras('Twentieth Century Fox')"
   ]
  },
  {
   "cell_type": "code",
   "execution_count": 31,
   "metadata": {},
   "outputs": [],
   "source": [
    "\n",
    "def franquicia(franquicia):\n",
    "    # Filtrar las películas de la franquicia especificada\n",
    "    franquicia_df = df[df['collection_name'].str.contains(franquicia, na=False)]\n",
    "\n",
    "    # Obtener la cantidad de películas en la franquicia\n",
    "    cantidad = len(franquicia_df)\n",
    "\n",
    "    # Calcular la ganancia total y promedio de la franquicia\n",
    "    ganancia_total = franquicia_df['revenue'].sum()\n",
    "    ganancia_promedio = franquicia_df['revenue'].mean()\n",
    "\n",
    "    # Retornar la información de la franquicia\n",
    "    return {'franquicia': franquicia, 'cantidad': cantidad, 'ganancia_total': ganancia_total, 'ganancia_promedio': ganancia_promedio}\n",
    "\n"
   ]
  },
  {
   "cell_type": "code",
   "execution_count": 32,
   "metadata": {},
   "outputs": [
    {
     "data": {
      "text/plain": [
       "{'franquicia': 'Toy Story',\n",
       " 'cantidad': 3,\n",
       " 'ganancia_total': 1937890605.0,\n",
       " 'ganancia_promedio': 645963535.0}"
      ]
     },
     "execution_count": 32,
     "metadata": {},
     "output_type": "execute_result"
    }
   ],
   "source": [
    "franquicia('Toy Story')\n"
   ]
  },
  {
   "cell_type": "code",
   "execution_count": 37,
   "metadata": {},
   "outputs": [],
   "source": [
    "def retorno(pelicula):\n",
    "      \n",
    "    df = pd.read_csv('Dataset/df.csv', low_memory=False)\n",
    "    df = df.dropna(subset=['return'])\n",
    "    \n",
    "    datos_pelicula = df.loc[df['title'] == pelicula]\n",
    "    inversion = datos_pelicula['budget'].values[0]\n",
    "    ganancia = datos_pelicula['revenue'].values[0]\n",
    "    retorno = datos_pelicula['return'].values[0]\n",
    "    anio = datos_pelicula['release_year'].values[0]\n",
    "    \n",
    "\n",
    "    return {'pelicula': pelicula, 'inversion': inversion, 'ganancia': ganancia, 'retorno': retorno, 'anio': anio}\n"
   ]
  },
  {
   "cell_type": "code",
   "execution_count": 38,
   "metadata": {},
   "outputs": [
    {
     "data": {
      "text/plain": [
       "{'pelicula': 'Toy Story',\n",
       " 'inversion': 30000000.0,\n",
       " 'ganancia': 373554033.0,\n",
       " 'retorno': 12.45,\n",
       " 'anio': 1995.0}"
      ]
     },
     "execution_count": 38,
     "metadata": {},
     "output_type": "execute_result"
    }
   ],
   "source": [
    "retorno('Toy Story')"
   ]
  },
  {
   "cell_type": "code",
   "execution_count": 45,
   "metadata": {},
   "outputs": [],
   "source": [
    "def recomendacion(titulo):\n",
    "    generodf = df['genre_names'].str.get_dummies('|')\n",
    "    k = 10\n",
    "    knn = NearestNeighbors(n_neighbors=k+1, algorithm='auto')\n",
    "    knn.fit(generodf)\n",
    "    indices = knn.kneighbors(generodf.loc[df['title'] == titulo])[1].flatten()\n",
    "    recomendadas = list(df.iloc[indices]['title'])\n",
    "    recomendadas = sorted(recomendadas, key=lambda x: df.loc[df['title'] == x]['vote_average'].values[0], reverse=True)[:5]\n",
    "    return {'recomendacion': recomendadas}\n"
   ]
  },
  {
   "cell_type": "code",
   "execution_count": 46,
   "metadata": {},
   "outputs": [
    {
     "data": {
      "text/plain": [
       "{'recomendacion': ['Back to School with Franklin',\n",
       "  'Rebirth',\n",
       "  'The Fox',\n",
       "  'Like Father, Like Son',\n",
       "  'The Little Fox']}"
      ]
     },
     "execution_count": 46,
     "metadata": {},
     "output_type": "execute_result"
    }
   ],
   "source": [
    "recomendacion('Frozen')"
   ]
  }
 ],
 "metadata": {
  "kernelspec": {
   "display_name": "Python 3",
   "language": "python",
   "name": "python3"
  },
  "language_info": {
   "codemirror_mode": {
    "name": "ipython",
    "version": 3
   },
   "file_extension": ".py",
   "mimetype": "text/x-python",
   "name": "python",
   "nbconvert_exporter": "python",
   "pygments_lexer": "ipython3",
   "version": "3.10.11"
  },
  "orig_nbformat": 4
 },
 "nbformat": 4,
 "nbformat_minor": 2
}
